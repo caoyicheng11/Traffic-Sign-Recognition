{
 "cells": [
  {
   "cell_type": "code",
   "execution_count": 2,
   "metadata": {},
   "outputs": [],
   "source": [
    "from utils.common import config_loader\n",
    "from models.baseline import Baseline"
   ]
  },
  {
   "cell_type": "code",
   "execution_count": 3,
   "metadata": {},
   "outputs": [
    {
     "name": "stderr",
     "output_type": "stream",
     "text": [
      "[2025-03-28 12:17:08] [INFO]: {'with_test': True, 'log_iter': 10, 'save_iter': 1000, 'total_iter': 10000, 'restore_ckpt_strict': True, 'restore_hint': 0, 'optimizer_reset': False, 'scheduler_reset': False, 'save_path': 'output', 'save_name': 'Baseline', 'model_cfg': {'model': 'Baseline', 'backbone_cfg': {'block': 'BasicBlock', 'in_channel': 3, 'channels': [32, 64, 128, 256], 'layers': [1, 2, 2, 1], 'strides': [1, 2, 2, 1], 'maxpool': True}, 'SeparateFCs': {'in_channels': 256, 'out_channels': 128, 'parts_num': 31}, 'SeparateBNNecks': {'class_num': 43, 'in_channels': 128, 'parts_num': 31}, 'bin_num': [16, 8, 4, 2, 1]}, 'loss_cfg': {'triplet': {'loss_term_weight': 1.0, 'margin': 0.2}, 'softmax': {'loss_term_weight': 1.0, 'scale': 16, 'log_accuracy': True}}, 'optimizer_cfg': {'lr': 0.1, 'momentum': 0.9, 'weight_decay': 0.0005}, 'scheduler_cfg': {'gamma': 0.1, 'milestones': [20000, 40000, 50000]}, 'data_cfg': {'dataset_name': 'GTSRB', 'root_dir': 'datasets/GTSRB_cropped', 'train_path': 'datasets/GTSRB_cropped/Train.csv', 'test_path': 'datasets/GTSRB_cropped/Test.csv', 'meta_path': 'datasets/GTSRB_cropped/Meta.csv', 'num_workers': 1, 'RandomRotate': {'prob': 0.2, 'degree': 10}, 'RandomBrightness': {'prob': 0.2, 'delta': [-0.1, 0.1]}, 'RandomBlur': {'prob': 0.2, 'size': 5}, 'train_sampler': {'batch_shuffle': True, 'batch_size': [4, 8]}, 'test_sampler': {'batch_size': 32}}}\n",
      "[2025-03-28 12:17:10] [INFO]: Iteration 00010, Cost 3.43s, triplet_loss=2.0681, triplet_hard_loss=8.4685, triplet_loss_num=2445.8708, triplet_mean_dist=4.4702, softmax_loss=5.3087, softmax_accuracy=0.0421\n",
      "[2025-03-28 12:17:10] [INFO]: Iteration 00020, Cost 0.22s, triplet_loss=2.0555, triplet_hard_loss=8.7207, triplet_loss_num=2081.7710, triplet_mean_dist=4.8356, softmax_loss=5.2675, softmax_accuracy=0.0688\n",
      "[2025-03-28 12:17:10] [INFO]: Iteration 00030, Cost 0.26s, triplet_loss=1.4703, triplet_hard_loss=6.7034, triplet_loss_num=2360.9709, triplet_mean_dist=3.3004, softmax_loss=5.1090, softmax_accuracy=0.0338\n",
      "[2025-03-28 12:17:10] [INFO]: Iteration 00040, Cost 0.29s, triplet_loss=1.1096, triplet_hard_loss=4.8839, triplet_loss_num=2393.6323, triplet_mean_dist=2.7253, softmax_loss=4.7704, softmax_accuracy=0.0504\n",
      "[2025-03-28 12:17:11] [INFO]: Iteration 00050, Cost 0.26s, triplet_loss=0.8088, triplet_hard_loss=3.3960, triplet_loss_num=2340.6096, triplet_mean_dist=1.9431, softmax_loss=4.8264, softmax_accuracy=0.0290\n",
      "[2025-03-28 12:17:11] [INFO]: Iteration 00060, Cost 0.25s, triplet_loss=0.6269, triplet_hard_loss=2.5862, triplet_loss_num=2174.4355, triplet_mean_dist=1.6029, softmax_loss=4.3506, softmax_accuracy=0.0787\n",
      "[2025-03-28 12:17:11] [INFO]: Iteration 00070, Cost 0.24s, triplet_loss=0.5479, triplet_hard_loss=2.2787, triplet_loss_num=1986.8710, triplet_mean_dist=1.4301, softmax_loss=4.4275, softmax_accuracy=0.0680\n",
      "[2025-03-28 12:17:11] [INFO]: Iteration 00080, Cost 0.27s, triplet_loss=0.4785, triplet_hard_loss=1.8943, triplet_loss_num=2536.8354, triplet_mean_dist=1.0908, softmax_loss=4.3242, softmax_accuracy=0.0527\n",
      "[2025-03-28 12:17:12] [INFO]: Iteration 00090, Cost 0.27s, triplet_loss=0.5054, triplet_hard_loss=2.1174, triplet_loss_num=2331.4226, triplet_mean_dist=1.1999, softmax_loss=4.3991, softmax_accuracy=0.0588\n",
      "[2025-03-28 12:17:12] [INFO]: Iteration 00100, Cost 0.26s, triplet_loss=0.4745, triplet_hard_loss=1.8633, triplet_loss_num=2225.0515, triplet_mean_dist=1.1395, softmax_loss=3.9628, softmax_accuracy=0.0860\n",
      "[2025-03-28 12:17:12] [INFO]: Iteration 00110, Cost 0.23s, triplet_loss=0.3808, triplet_hard_loss=1.5453, triplet_loss_num=2350.7808, triplet_mean_dist=0.9351, softmax_loss=4.0817, softmax_accuracy=0.0648\n",
      "[2025-03-28 12:17:12] [INFO]: Iteration 00120, Cost 0.23s, triplet_loss=0.3926, triplet_hard_loss=1.5841, triplet_loss_num=2459.9612, triplet_mean_dist=0.9273, softmax_loss=4.2551, softmax_accuracy=0.0572\n",
      "[2025-03-28 12:17:13] [INFO]: Iteration 00130, Cost 0.22s, triplet_loss=0.3730, triplet_hard_loss=1.5533, triplet_loss_num=2229.5710, triplet_mean_dist=0.9807, softmax_loss=4.1148, softmax_accuracy=0.0594\n",
      "[2025-03-28 12:17:13] [INFO]: Iteration 00140, Cost 0.25s, triplet_loss=0.3392, triplet_hard_loss=1.4299, triplet_loss_num=2010.0677, triplet_mean_dist=0.9414, softmax_loss=4.0854, softmax_accuracy=0.0674\n",
      "[2025-03-28 12:17:13] [INFO]: Iteration 00150, Cost 0.26s, triplet_loss=0.3511, triplet_hard_loss=1.4486, triplet_loss_num=2507.6453, triplet_mean_dist=0.8720, softmax_loss=3.8951, softmax_accuracy=0.0849\n",
      "[2025-03-28 12:17:13] [INFO]: Iteration 00160, Cost 0.31s, triplet_loss=0.3320, triplet_hard_loss=1.3309, triplet_loss_num=1931.1484, triplet_mean_dist=0.9520, softmax_loss=3.6198, softmax_accuracy=0.1456\n",
      "[2025-03-28 12:17:14] [INFO]: Iteration 00170, Cost 0.29s, triplet_loss=0.4016, triplet_hard_loss=1.6768, triplet_loss_num=1854.4935, triplet_mean_dist=1.1366, softmax_loss=4.0289, softmax_accuracy=0.0820\n",
      "[2025-03-28 12:17:14] [INFO]: Iteration 00180, Cost 0.23s, triplet_loss=0.3718, triplet_hard_loss=1.5121, triplet_loss_num=2108.5420, triplet_mean_dist=0.9728, softmax_loss=4.0335, softmax_accuracy=0.0606\n",
      "[2025-03-28 12:17:14] [INFO]: Iteration 00190, Cost 0.23s, triplet_loss=0.3735, triplet_hard_loss=1.6236, triplet_loss_num=2369.7644, triplet_mean_dist=0.9767, softmax_loss=3.9229, softmax_accuracy=0.0936\n",
      "[2025-03-28 12:17:14] [INFO]: Iteration 00200, Cost 0.26s, triplet_loss=0.3178, triplet_hard_loss=1.3108, triplet_loss_num=1749.1096, triplet_mean_dist=0.9959, softmax_loss=3.6229, softmax_accuracy=0.1179\n",
      "[2025-03-28 12:17:15] [INFO]: Iteration 00210, Cost 0.26s, triplet_loss=0.3483, triplet_hard_loss=1.5070, triplet_loss_num=1896.1677, triplet_mean_dist=0.9704, softmax_loss=3.8291, softmax_accuracy=0.1057\n",
      "[2025-03-28 12:17:15] [INFO]: Iteration 00220, Cost 0.25s, triplet_loss=0.3170, triplet_hard_loss=1.2988, triplet_loss_num=1930.4354, triplet_mean_dist=0.9247, softmax_loss=3.8740, softmax_accuracy=0.0928\n",
      "[2025-03-28 12:17:15] [INFO]: Iteration 00230, Cost 0.22s, triplet_loss=0.3378, triplet_hard_loss=1.3662, triplet_loss_num=2115.1580, triplet_mean_dist=0.9407, softmax_loss=3.6132, softmax_accuracy=0.0794\n",
      "[2025-03-28 12:17:15] [INFO]: Iteration 00240, Cost 0.30s, triplet_loss=0.3065, triplet_hard_loss=1.2555, triplet_loss_num=1707.9774, triplet_mean_dist=0.9813, softmax_loss=3.4991, softmax_accuracy=0.1361\n",
      "[2025-03-28 12:17:16] [INFO]: Iteration 00250, Cost 0.28s, triplet_loss=0.2843, triplet_hard_loss=1.2076, triplet_loss_num=1421.2355, triplet_mean_dist=0.9589, softmax_loss=3.4733, softmax_accuracy=0.1393\n",
      "[2025-03-28 12:17:16] [INFO]: Iteration 00260, Cost 0.30s, triplet_loss=0.3097, triplet_hard_loss=1.3042, triplet_loss_num=1677.2710, triplet_mean_dist=0.9743, softmax_loss=3.8072, softmax_accuracy=0.1171\n",
      "[2025-03-28 12:17:16] [INFO]: Iteration 00270, Cost 0.28s, triplet_loss=0.3582, triplet_hard_loss=1.5618, triplet_loss_num=1925.9613, triplet_mean_dist=1.0906, softmax_loss=4.0538, softmax_accuracy=0.0779\n",
      "[2025-03-28 12:17:17] [INFO]: Iteration 00280, Cost 0.26s, triplet_loss=0.3653, triplet_hard_loss=1.5075, triplet_loss_num=1537.1420, triplet_mean_dist=1.1956, softmax_loss=3.5679, softmax_accuracy=0.0811\n",
      "[2025-03-28 12:17:17] [INFO]: Iteration 00290, Cost 0.26s, triplet_loss=0.3817, triplet_hard_loss=1.6025, triplet_loss_num=1247.3806, triplet_mean_dist=1.3448, softmax_loss=3.5428, softmax_accuracy=0.1035\n",
      "[2025-03-28 12:17:17] [INFO]: Iteration 00300, Cost 0.25s, triplet_loss=0.3096, triplet_hard_loss=1.2506, triplet_loss_num=1582.2258, triplet_mean_dist=1.0433, softmax_loss=3.7699, softmax_accuracy=0.1015\n",
      "[2025-03-28 12:17:17] [INFO]: Iteration 00310, Cost 0.23s, triplet_loss=0.3339, triplet_hard_loss=1.3852, triplet_loss_num=1552.4678, triplet_mean_dist=1.1594, softmax_loss=3.6166, softmax_accuracy=0.1303\n",
      "[2025-03-28 12:17:18] [INFO]: Iteration 00320, Cost 0.27s, triplet_loss=0.3436, triplet_hard_loss=1.4603, triplet_loss_num=1735.1936, triplet_mean_dist=1.0363, softmax_loss=3.7373, softmax_accuracy=0.1088\n",
      "[2025-03-28 12:17:18] [INFO]: Iteration 00330, Cost 0.25s, triplet_loss=0.3267, triplet_hard_loss=1.3507, triplet_loss_num=1667.6033, triplet_mean_dist=1.0792, softmax_loss=3.6048, softmax_accuracy=0.1290\n",
      "[2025-03-28 12:17:18] [INFO]: Iteration 00340, Cost 0.25s, triplet_loss=0.2581, triplet_hard_loss=1.0470, triplet_loss_num=1170.7484, triplet_mean_dist=1.0603, softmax_loss=3.6088, softmax_accuracy=0.1233\n",
      "[2025-03-28 12:17:18] [INFO]: Iteration 00350, Cost 0.25s, triplet_loss=0.3080, triplet_hard_loss=1.2610, triplet_loss_num=1542.2258, triplet_mean_dist=1.0175, softmax_loss=3.4368, softmax_accuracy=0.1757\n",
      "[2025-03-28 12:17:19] [INFO]: Iteration 00360, Cost 0.26s, triplet_loss=0.3082, triplet_hard_loss=1.3215, triplet_loss_num=1664.4774, triplet_mean_dist=1.0297, softmax_loss=3.4638, softmax_accuracy=0.1586\n",
      "[2025-03-28 12:17:19] [INFO]: Iteration 00370, Cost 0.27s, triplet_loss=0.3440, triplet_hard_loss=1.4816, triplet_loss_num=1629.6322, triplet_mean_dist=1.1714, softmax_loss=3.4249, softmax_accuracy=0.1637\n",
      "[2025-03-28 12:17:19] [INFO]: Iteration 00380, Cost 0.26s, triplet_loss=0.3079, triplet_hard_loss=1.2767, triplet_loss_num=1294.2612, triplet_mean_dist=1.1654, softmax_loss=3.4189, softmax_accuracy=0.1324\n",
      "[2025-03-28 12:17:19] [INFO]: Iteration 00390, Cost 0.24s, triplet_loss=0.3149, triplet_hard_loss=1.2671, triplet_loss_num=1602.1194, triplet_mean_dist=1.0758, softmax_loss=3.5916, softmax_accuracy=0.1509\n",
      "[2025-03-28 12:17:20] [INFO]: Iteration 00400, Cost 0.26s, triplet_loss=0.2858, triplet_hard_loss=1.2137, triplet_loss_num=1312.6161, triplet_mean_dist=1.1101, softmax_loss=3.3689, softmax_accuracy=0.1467\n",
      "[2025-03-28 12:17:20] [INFO]: Iteration 00410, Cost 0.25s, triplet_loss=0.3309, triplet_hard_loss=1.4389, triplet_loss_num=1326.9000, triplet_mean_dist=1.2342, softmax_loss=3.3865, softmax_accuracy=0.1879\n",
      "[2025-03-28 12:17:20] [INFO]: Iteration 00420, Cost 0.28s, triplet_loss=0.3341, triplet_hard_loss=1.4269, triplet_loss_num=1585.3193, triplet_mean_dist=1.1617, softmax_loss=3.4824, softmax_accuracy=0.1332\n",
      "[2025-03-28 12:17:20] [INFO]: Iteration 00430, Cost 0.25s, triplet_loss=0.2809, triplet_hard_loss=1.1516, triplet_loss_num=1143.5258, triplet_mean_dist=1.1434, softmax_loss=3.4300, softmax_accuracy=0.1359\n",
      "[2025-03-28 12:17:21] [INFO]: Iteration 00440, Cost 0.26s, triplet_loss=0.3461, triplet_hard_loss=1.4996, triplet_loss_num=1479.1033, triplet_mean_dist=1.1754, softmax_loss=3.6911, softmax_accuracy=0.1119\n",
      "[2025-03-28 12:17:21] [INFO]: Iteration 00450, Cost 0.27s, triplet_loss=0.3620, triplet_hard_loss=1.4938, triplet_loss_num=1294.7258, triplet_mean_dist=1.4167, softmax_loss=3.3235, softmax_accuracy=0.1624\n",
      "[2025-03-28 12:17:21] [INFO]: Iteration 00460, Cost 0.27s, triplet_loss=0.3312, triplet_hard_loss=1.3969, triplet_loss_num=1310.4645, triplet_mean_dist=1.2648, softmax_loss=3.6561, softmax_accuracy=0.1263\n",
      "[2025-03-28 12:17:22] [INFO]: Iteration 00470, Cost 0.30s, triplet_loss=0.3073, triplet_hard_loss=1.2885, triplet_loss_num=1216.2838, triplet_mean_dist=1.2366, softmax_loss=3.4800, softmax_accuracy=0.1116\n",
      "[2025-03-28 12:17:22] [INFO]: Iteration 00480, Cost 0.30s, triplet_loss=0.3152, triplet_hard_loss=1.3565, triplet_loss_num=1510.3741, triplet_mean_dist=1.2311, softmax_loss=3.2635, softmax_accuracy=0.2031\n",
      "[2025-03-28 12:17:22] [INFO]: Iteration 00490, Cost 0.28s, triplet_loss=0.2955, triplet_hard_loss=1.2484, triplet_loss_num=1656.1516, triplet_mean_dist=1.0286, softmax_loss=3.4685, softmax_accuracy=0.1584\n",
      "[2025-03-28 12:17:22] [INFO]: Iteration 00500, Cost 0.26s, triplet_loss=0.3208, triplet_hard_loss=1.3075, triplet_loss_num=1272.9323, triplet_mean_dist=1.2732, softmax_loss=3.4514, softmax_accuracy=0.1191\n",
      "[2025-03-28 12:17:23] [INFO]: Iteration 00510, Cost 0.28s, triplet_loss=0.2996, triplet_hard_loss=1.2521, triplet_loss_num=1295.7000, triplet_mean_dist=1.1284, softmax_loss=3.1214, softmax_accuracy=0.2170\n",
      "[2025-03-28 12:17:23] [INFO]: Iteration 00520, Cost 0.24s, triplet_loss=0.2749, triplet_hard_loss=1.1053, triplet_loss_num=1689.2064, triplet_mean_dist=1.0155, softmax_loss=3.5292, softmax_accuracy=0.1274\n",
      "[2025-03-28 12:17:23] [INFO]: Iteration 00530, Cost 0.23s, triplet_loss=0.2875, triplet_hard_loss=1.2168, triplet_loss_num=1252.5839, triplet_mean_dist=1.1502, softmax_loss=3.2074, softmax_accuracy=0.2059\n",
      "[2025-03-28 12:17:23] [INFO]: Iteration 00540, Cost 0.24s, triplet_loss=0.2793, triplet_hard_loss=1.1762, triplet_loss_num=985.9355, triplet_mean_dist=1.2735, softmax_loss=2.9838, softmax_accuracy=0.2819\n",
      "[2025-03-28 12:17:24] [INFO]: Iteration 00550, Cost 0.26s, triplet_loss=0.3546, triplet_hard_loss=1.5057, triplet_loss_num=1128.0807, triplet_mean_dist=1.3894, softmax_loss=3.3352, softmax_accuracy=0.1472\n",
      "[2025-03-28 12:17:24] [INFO]: Iteration 00560, Cost 0.27s, triplet_loss=0.2884, triplet_hard_loss=1.1744, triplet_loss_num=992.7355, triplet_mean_dist=1.2177, softmax_loss=2.9278, softmax_accuracy=0.2127\n",
      "[2025-03-28 12:17:24] [INFO]: Iteration 00570, Cost 0.28s, triplet_loss=0.2649, triplet_hard_loss=1.0975, triplet_loss_num=1480.8452, triplet_mean_dist=1.1145, softmax_loss=3.1774, softmax_accuracy=0.2352\n",
      "[2025-03-28 12:17:24] [INFO]: Iteration 00580, Cost 0.26s, triplet_loss=0.3123, triplet_hard_loss=1.3015, triplet_loss_num=1082.3936, triplet_mean_dist=1.3592, softmax_loss=3.2648, softmax_accuracy=0.1988\n",
      "[2025-03-28 12:17:25] [INFO]: Iteration 00590, Cost 0.27s, triplet_loss=0.3286, triplet_hard_loss=1.3500, triplet_loss_num=1046.2742, triplet_mean_dist=1.4916, softmax_loss=3.0463, softmax_accuracy=0.2124\n",
      "[2025-03-28 12:17:25] [INFO]: Iteration 00600, Cost 0.26s, triplet_loss=0.3304, triplet_hard_loss=1.4246, triplet_loss_num=1416.1742, triplet_mean_dist=1.3281, softmax_loss=3.2010, softmax_accuracy=0.2066\n",
      "[2025-03-28 12:17:25] [INFO]: Iteration 00610, Cost 0.24s, triplet_loss=0.2749, triplet_hard_loss=1.1726, triplet_loss_num=1384.5065, triplet_mean_dist=1.1310, softmax_loss=3.1857, softmax_accuracy=0.2177\n",
      "[2025-03-28 12:17:26] [INFO]: Iteration 00620, Cost 0.29s, triplet_loss=0.3230, triplet_hard_loss=1.3178, triplet_loss_num=1324.5839, triplet_mean_dist=1.2695, softmax_loss=3.1939, softmax_accuracy=0.2001\n",
      "[2025-03-28 12:17:26] [INFO]: Iteration 00630, Cost 0.26s, triplet_loss=0.2841, triplet_hard_loss=1.2444, triplet_loss_num=1138.8516, triplet_mean_dist=1.2745, softmax_loss=3.2293, softmax_accuracy=0.2088\n",
      "[2025-03-28 12:17:26] [INFO]: Iteration 00640, Cost 0.26s, triplet_loss=0.2975, triplet_hard_loss=1.2420, triplet_loss_num=974.1032, triplet_mean_dist=1.3136, softmax_loss=2.9227, softmax_accuracy=0.2442\n",
      "[2025-03-28 12:17:26] [INFO]: Iteration 00650, Cost 0.28s, triplet_loss=0.2896, triplet_hard_loss=1.2216, triplet_loss_num=1203.6033, triplet_mean_dist=1.2526, softmax_loss=3.0238, softmax_accuracy=0.2337\n",
      "[2025-03-28 12:17:27] [INFO]: Iteration 00660, Cost 0.28s, triplet_loss=0.3005, triplet_hard_loss=1.2545, triplet_loss_num=901.2613, triplet_mean_dist=1.5236, softmax_loss=3.1429, softmax_accuracy=0.2210\n",
      "[2025-03-28 12:17:27] [INFO]: Iteration 00670, Cost 0.26s, triplet_loss=0.2688, triplet_hard_loss=1.1211, triplet_loss_num=776.6742, triplet_mean_dist=1.4456, softmax_loss=2.7851, softmax_accuracy=0.3252\n",
      "[2025-03-28 12:17:27] [INFO]: Iteration 00680, Cost 0.26s, triplet_loss=0.3171, triplet_hard_loss=1.2753, triplet_loss_num=886.1548, triplet_mean_dist=1.5884, softmax_loss=2.9153, softmax_accuracy=0.2302\n",
      "[2025-03-28 12:17:27] [INFO]: Iteration 00690, Cost 0.29s, triplet_loss=0.2779, triplet_hard_loss=1.1564, triplet_loss_num=888.7806, triplet_mean_dist=1.3383, softmax_loss=2.8382, softmax_accuracy=0.2851\n",
      "[2025-03-28 12:17:28] [INFO]: Iteration 00700, Cost 0.25s, triplet_loss=0.2439, triplet_hard_loss=0.9885, triplet_loss_num=793.4548, triplet_mean_dist=1.3677, softmax_loss=2.7908, softmax_accuracy=0.3203\n",
      "[2025-03-28 12:17:28] [INFO]: Iteration 00710, Cost 0.25s, triplet_loss=0.3102, triplet_hard_loss=1.3375, triplet_loss_num=994.4387, triplet_mean_dist=1.4216, softmax_loss=2.9986, softmax_accuracy=0.2729\n",
      "[2025-03-28 12:17:28] [INFO]: Iteration 00720, Cost 0.29s, triplet_loss=0.2730, triplet_hard_loss=1.1672, triplet_loss_num=937.2322, triplet_mean_dist=1.3806, softmax_loss=3.0532, softmax_accuracy=0.2005\n",
      "[2025-03-28 12:17:28] [INFO]: Iteration 00730, Cost 0.24s, triplet_loss=0.2946, triplet_hard_loss=1.2361, triplet_loss_num=784.6935, triplet_mean_dist=1.5342, softmax_loss=2.7097, softmax_accuracy=0.2928\n",
      "[2025-03-28 12:17:29] [INFO]: Iteration 00740, Cost 0.26s, triplet_loss=0.3175, triplet_hard_loss=1.3094, triplet_loss_num=625.9226, triplet_mean_dist=1.7918, softmax_loss=2.7456, softmax_accuracy=0.3244\n",
      "[2025-03-28 12:17:29] [INFO]: Iteration 00750, Cost 0.28s, triplet_loss=0.3084, triplet_hard_loss=1.2845, triplet_loss_num=798.8806, triplet_mean_dist=1.5741, softmax_loss=2.8911, softmax_accuracy=0.3099\n",
      "[2025-03-28 12:17:29] [INFO]: Iteration 00760, Cost 0.29s, triplet_loss=0.3326, triplet_hard_loss=1.3215, triplet_loss_num=841.2226, triplet_mean_dist=1.6304, softmax_loss=2.9273, softmax_accuracy=0.2833\n",
      "[2025-03-28 12:17:30] [INFO]: Iteration 00770, Cost 0.28s, triplet_loss=0.2637, triplet_hard_loss=1.0951, triplet_loss_num=801.5613, triplet_mean_dist=1.4763, softmax_loss=2.6558, softmax_accuracy=0.3322\n",
      "[2025-03-28 12:17:30] [INFO]: Iteration 00780, Cost 0.25s, triplet_loss=0.2774, triplet_hard_loss=1.1073, triplet_loss_num=757.3581, triplet_mean_dist=1.5573, softmax_loss=2.8320, softmax_accuracy=0.2612\n",
      "[2025-03-28 12:17:30] [INFO]: Iteration 00790, Cost 0.23s, triplet_loss=0.2983, triplet_hard_loss=1.2273, triplet_loss_num=501.1000, triplet_mean_dist=1.8493, softmax_loss=2.5926, softmax_accuracy=0.3634\n",
      "[2025-03-28 12:17:30] [INFO]: Iteration 00800, Cost 0.25s, triplet_loss=0.3504, triplet_hard_loss=1.4037, triplet_loss_num=810.4452, triplet_mean_dist=1.7096, softmax_loss=2.7527, softmax_accuracy=0.3353\n",
      "[2025-03-28 12:17:31] [INFO]: Iteration 00810, Cost 0.27s, triplet_loss=0.2790, triplet_hard_loss=1.1281, triplet_loss_num=976.9290, triplet_mean_dist=1.4763, softmax_loss=2.8038, softmax_accuracy=0.3110\n",
      "[2025-03-28 12:17:31] [INFO]: Iteration 00820, Cost 0.23s, triplet_loss=0.2737, triplet_hard_loss=1.1272, triplet_loss_num=711.7065, triplet_mean_dist=1.5401, softmax_loss=2.7757, softmax_accuracy=0.3325\n",
      "[2025-03-28 12:17:31] [INFO]: Iteration 00830, Cost 0.21s, triplet_loss=0.2649, triplet_hard_loss=1.0333, triplet_loss_num=523.4903, triplet_mean_dist=1.6960, softmax_loss=2.3629, softmax_accuracy=0.4437\n",
      "[2025-03-28 12:17:31] [INFO]: Iteration 00840, Cost 0.22s, triplet_loss=0.2929, triplet_hard_loss=1.1781, triplet_loss_num=522.0097, triplet_mean_dist=1.9033, softmax_loss=2.6451, softmax_accuracy=0.3601\n",
      "[2025-03-28 12:17:31] [INFO]: Iteration 00850, Cost 0.26s, triplet_loss=0.3188, triplet_hard_loss=1.2698, triplet_loss_num=614.3613, triplet_mean_dist=1.9754, softmax_loss=2.5235, softmax_accuracy=0.3707\n",
      "[2025-03-28 12:17:32] [INFO]: Iteration 00860, Cost 0.25s, triplet_loss=0.3222, triplet_hard_loss=1.3175, triplet_loss_num=878.9742, triplet_mean_dist=1.9055, softmax_loss=2.8038, softmax_accuracy=0.3041\n",
      "[2025-03-28 12:17:32] [INFO]: Iteration 00870, Cost 0.27s, triplet_loss=0.3009, triplet_hard_loss=1.2758, triplet_loss_num=770.3549, triplet_mean_dist=1.8061, softmax_loss=2.8076, softmax_accuracy=0.2836\n",
      "[2025-03-28 12:17:32] [INFO]: Iteration 00880, Cost 0.26s, triplet_loss=0.2778, triplet_hard_loss=1.1147, triplet_loss_num=539.1226, triplet_mean_dist=1.7391, softmax_loss=2.7227, softmax_accuracy=0.2880\n",
      "[2025-03-28 12:17:33] [INFO]: Iteration 00890, Cost 0.27s, triplet_loss=0.3121, triplet_hard_loss=1.2448, triplet_loss_num=614.9226, triplet_mean_dist=1.8851, softmax_loss=2.6867, softmax_accuracy=0.3304\n",
      "[2025-03-28 12:17:33] [INFO]: Iteration 00900, Cost 0.28s, triplet_loss=0.3457, triplet_hard_loss=1.3359, triplet_loss_num=509.5516, triplet_mean_dist=1.9694, softmax_loss=2.3801, softmax_accuracy=0.4441\n"
     ]
    },
    {
     "ename": "KeyboardInterrupt",
     "evalue": "",
     "output_type": "error",
     "traceback": [
      "\u001b[0;31m---------------------------------------------------------------------------\u001b[0m",
      "\u001b[0;31mAttributeError\u001b[0m                            Traceback (most recent call last)",
      "File \u001b[0;32m~/.local/lib/python3.8/site-packages/PIL/ImageFile.py:547\u001b[0m, in \u001b[0;36m_save\u001b[0;34m(im, fp, tile, bufsize)\u001b[0m\n\u001b[1;32m    546\u001b[0m \u001b[38;5;28;01mtry\u001b[39;00m:\n\u001b[0;32m--> 547\u001b[0m     fh \u001b[38;5;241m=\u001b[39m \u001b[43mfp\u001b[49m\u001b[38;5;241;43m.\u001b[39;49m\u001b[43mfileno\u001b[49m()\n\u001b[1;32m    548\u001b[0m     fp\u001b[38;5;241m.\u001b[39mflush()\n",
      "\u001b[0;31mAttributeError\u001b[0m: '_idat' object has no attribute 'fileno'",
      "\nDuring handling of the above exception, another exception occurred:\n",
      "\u001b[0;31mKeyboardInterrupt\u001b[0m                         Traceback (most recent call last)",
      "Cell \u001b[0;32mIn[3], line 3\u001b[0m\n\u001b[1;32m      1\u001b[0m cfgs \u001b[38;5;241m=\u001b[39m config_loader(path\u001b[38;5;241m=\u001b[39m\u001b[38;5;124m'\u001b[39m\u001b[38;5;124mconfigs/default.yaml\u001b[39m\u001b[38;5;124m'\u001b[39m)\n\u001b[1;32m      2\u001b[0m model \u001b[38;5;241m=\u001b[39m Baseline(cfgs)\n\u001b[0;32m----> 3\u001b[0m \u001b[43mBaseline\u001b[49m\u001b[38;5;241;43m.\u001b[39;49m\u001b[43mrun_train\u001b[49m\u001b[43m(\u001b[49m\u001b[43mmodel\u001b[49m\u001b[43m)\u001b[49m\n",
      "File \u001b[0;32m~/Desktop/Traffic-Sign-Recognition/models/baseline.py:264\u001b[0m, in \u001b[0;36mBaseline.run_train\u001b[0;34m(model)\u001b[0m\n\u001b[1;32m    261\u001b[0m visual_summary\u001b[38;5;241m.\u001b[39mupdate(loss_info)\n\u001b[1;32m    262\u001b[0m visual_summary[\u001b[38;5;124m'\u001b[39m\u001b[38;5;124mscalar/learning_rate\u001b[39m\u001b[38;5;124m'\u001b[39m] \u001b[38;5;241m=\u001b[39m model\u001b[38;5;241m.\u001b[39moptimizer\u001b[38;5;241m.\u001b[39mparam_groups[\u001b[38;5;241m0\u001b[39m][\u001b[38;5;124m'\u001b[39m\u001b[38;5;124mlr\u001b[39m\u001b[38;5;124m'\u001b[39m]\n\u001b[0;32m--> 264\u001b[0m \u001b[43mmodel\u001b[49m\u001b[38;5;241;43m.\u001b[39;49m\u001b[43mmsg_mgr\u001b[49m\u001b[38;5;241;43m.\u001b[39;49m\u001b[43mtrain_step\u001b[49m\u001b[43m(\u001b[49m\u001b[43mloss_info\u001b[49m\u001b[43m,\u001b[49m\u001b[43m \u001b[49m\u001b[43mvisual_summary\u001b[49m\u001b[43m)\u001b[49m\n\u001b[1;32m    265\u001b[0m \u001b[38;5;28;01mif\u001b[39;00m model\u001b[38;5;241m.\u001b[39miteration \u001b[38;5;241m%\u001b[39m model\u001b[38;5;241m.\u001b[39msave_iter \u001b[38;5;241m==\u001b[39m \u001b[38;5;241m0\u001b[39m:\n\u001b[1;32m    266\u001b[0m     \u001b[38;5;66;03m# save the checkpoint\u001b[39;00m\n\u001b[1;32m    267\u001b[0m     model\u001b[38;5;241m.\u001b[39msave_ckpt(model\u001b[38;5;241m.\u001b[39miteration)\n",
      "File \u001b[0;32m~/Desktop/Traffic-Sign-Recognition/utils/msg_manager.py:101\u001b[0m, in \u001b[0;36mMessageManager.train_step\u001b[0;34m(self, info, summary)\u001b[0m\n\u001b[1;32m     99\u001b[0m \u001b[38;5;28mself\u001b[39m\u001b[38;5;241m.\u001b[39mlog_training_info()\n\u001b[1;32m    100\u001b[0m \u001b[38;5;28mself\u001b[39m\u001b[38;5;241m.\u001b[39mflush()\n\u001b[0;32m--> 101\u001b[0m \u001b[38;5;28;43mself\u001b[39;49m\u001b[38;5;241;43m.\u001b[39;49m\u001b[43mwrite_to_tensorboard\u001b[49m\u001b[43m(\u001b[49m\u001b[43msummary\u001b[49m\u001b[43m)\u001b[49m\n",
      "File \u001b[0;32m~/Desktop/Traffic-Sign-Recognition/utils/msg_manager.py:77\u001b[0m, in \u001b[0;36mMessageManager.write_to_tensorboard\u001b[0;34m(self, summary)\u001b[0m\n\u001b[1;32m     75\u001b[0m     \u001b[38;5;28;01mexcept\u001b[39;00m:\n\u001b[1;32m     76\u001b[0m         v \u001b[38;5;241m=\u001b[39m v\n\u001b[0;32m---> 77\u001b[0m \u001b[43mwriter_module\u001b[49m\u001b[43m(\u001b[49m\u001b[43mboard_name\u001b[49m\u001b[43m,\u001b[49m\u001b[43m \u001b[49m\u001b[43mv\u001b[49m\u001b[43m,\u001b[49m\u001b[43m \u001b[49m\u001b[38;5;28;43mself\u001b[39;49m\u001b[38;5;241;43m.\u001b[39;49m\u001b[43miteration\u001b[49m\u001b[43m)\u001b[49m\n",
      "File \u001b[0;32m~/.local/lib/python3.8/site-packages/torch/utils/tensorboard/writer.py:625\u001b[0m, in \u001b[0;36mSummaryWriter.add_image\u001b[0;34m(self, tag, img_tensor, global_step, walltime, dataformats)\u001b[0m\n\u001b[1;32m    580\u001b[0m \u001b[38;5;250m\u001b[39m\u001b[38;5;124;03m\"\"\"Add image data to summary.\u001b[39;00m\n\u001b[1;32m    581\u001b[0m \n\u001b[1;32m    582\u001b[0m \u001b[38;5;124;03mNote that this requires the ``pillow`` package.\u001b[39;00m\n\u001b[0;32m   (...)\u001b[0m\n\u001b[1;32m    621\u001b[0m \n\u001b[1;32m    622\u001b[0m \u001b[38;5;124;03m\"\"\"\u001b[39;00m\n\u001b[1;32m    623\u001b[0m torch\u001b[38;5;241m.\u001b[39m_C\u001b[38;5;241m.\u001b[39m_log_api_usage_once(\u001b[38;5;124m\"\u001b[39m\u001b[38;5;124mtensorboard.logging.add_image\u001b[39m\u001b[38;5;124m\"\u001b[39m)\n\u001b[1;32m    624\u001b[0m \u001b[38;5;28mself\u001b[39m\u001b[38;5;241m.\u001b[39m_get_file_writer()\u001b[38;5;241m.\u001b[39madd_summary(\n\u001b[0;32m--> 625\u001b[0m     \u001b[43mimage\u001b[49m\u001b[43m(\u001b[49m\u001b[43mtag\u001b[49m\u001b[43m,\u001b[49m\u001b[43m \u001b[49m\u001b[43mimg_tensor\u001b[49m\u001b[43m,\u001b[49m\u001b[43m \u001b[49m\u001b[43mdataformats\u001b[49m\u001b[38;5;241;43m=\u001b[39;49m\u001b[43mdataformats\u001b[49m\u001b[43m)\u001b[49m, global_step, walltime\n\u001b[1;32m    626\u001b[0m )\n",
      "File \u001b[0;32m~/.local/lib/python3.8/site-packages/torch/utils/tensorboard/summary.py:577\u001b[0m, in \u001b[0;36mimage\u001b[0;34m(tag, tensor, rescale, dataformats)\u001b[0m\n\u001b[1;32m    575\u001b[0m tensor \u001b[38;5;241m=\u001b[39m tensor\u001b[38;5;241m.\u001b[39mastype(np\u001b[38;5;241m.\u001b[39mfloat32)\n\u001b[1;32m    576\u001b[0m tensor \u001b[38;5;241m=\u001b[39m (tensor \u001b[38;5;241m*\u001b[39m scale_factor)\u001b[38;5;241m.\u001b[39mclip(\u001b[38;5;241m0\u001b[39m, \u001b[38;5;241m255\u001b[39m)\u001b[38;5;241m.\u001b[39mastype(np\u001b[38;5;241m.\u001b[39muint8)\n\u001b[0;32m--> 577\u001b[0m image \u001b[38;5;241m=\u001b[39m \u001b[43mmake_image\u001b[49m\u001b[43m(\u001b[49m\u001b[43mtensor\u001b[49m\u001b[43m,\u001b[49m\u001b[43m \u001b[49m\u001b[43mrescale\u001b[49m\u001b[38;5;241;43m=\u001b[39;49m\u001b[43mrescale\u001b[49m\u001b[43m)\u001b[49m\n\u001b[1;32m    578\u001b[0m \u001b[38;5;28;01mreturn\u001b[39;00m Summary(value\u001b[38;5;241m=\u001b[39m[Summary\u001b[38;5;241m.\u001b[39mValue(tag\u001b[38;5;241m=\u001b[39mtag, image\u001b[38;5;241m=\u001b[39mimage)])\n",
      "File \u001b[0;32m~/.local/lib/python3.8/site-packages/torch/utils/tensorboard/summary.py:630\u001b[0m, in \u001b[0;36mmake_image\u001b[0;34m(tensor, rescale, rois, labels)\u001b[0m\n\u001b[1;32m    627\u001b[0m \u001b[38;5;28;01mimport\u001b[39;00m \u001b[38;5;21;01mio\u001b[39;00m\n\u001b[1;32m    629\u001b[0m output \u001b[38;5;241m=\u001b[39m io\u001b[38;5;241m.\u001b[39mBytesIO()\n\u001b[0;32m--> 630\u001b[0m \u001b[43mimage\u001b[49m\u001b[38;5;241;43m.\u001b[39;49m\u001b[43msave\u001b[49m\u001b[43m(\u001b[49m\u001b[43moutput\u001b[49m\u001b[43m,\u001b[49m\u001b[43m \u001b[49m\u001b[38;5;28;43mformat\u001b[39;49m\u001b[38;5;241;43m=\u001b[39;49m\u001b[38;5;124;43m\"\u001b[39;49m\u001b[38;5;124;43mPNG\u001b[39;49m\u001b[38;5;124;43m\"\u001b[39;49m\u001b[43m)\u001b[49m\n\u001b[1;32m    631\u001b[0m image_string \u001b[38;5;241m=\u001b[39m output\u001b[38;5;241m.\u001b[39mgetvalue()\n\u001b[1;32m    632\u001b[0m output\u001b[38;5;241m.\u001b[39mclose()\n",
      "File \u001b[0;32m~/.local/lib/python3.8/site-packages/PIL/Image.py:2568\u001b[0m, in \u001b[0;36mImage.save\u001b[0;34m(self, fp, format, **params)\u001b[0m\n\u001b[1;32m   2565\u001b[0m     fp \u001b[38;5;241m=\u001b[39m cast(IO[\u001b[38;5;28mbytes\u001b[39m], fp)\n\u001b[1;32m   2567\u001b[0m \u001b[38;5;28;01mtry\u001b[39;00m:\n\u001b[0;32m-> 2568\u001b[0m     \u001b[43msave_handler\u001b[49m\u001b[43m(\u001b[49m\u001b[38;5;28;43mself\u001b[39;49m\u001b[43m,\u001b[49m\u001b[43m \u001b[49m\u001b[43mfp\u001b[49m\u001b[43m,\u001b[49m\u001b[43m \u001b[49m\u001b[43mfilename\u001b[49m\u001b[43m)\u001b[49m\n\u001b[1;32m   2569\u001b[0m \u001b[38;5;28;01mexcept\u001b[39;00m \u001b[38;5;167;01mException\u001b[39;00m:\n\u001b[1;32m   2570\u001b[0m     \u001b[38;5;28;01mif\u001b[39;00m open_fp:\n",
      "File \u001b[0;32m~/.local/lib/python3.8/site-packages/PIL/PngImagePlugin.py:1431\u001b[0m, in \u001b[0;36m_save\u001b[0;34m(im, fp, filename, chunk, save_all)\u001b[0m\n\u001b[1;32m   1427\u001b[0m     im \u001b[38;5;241m=\u001b[39m _write_multiple_frames(\n\u001b[1;32m   1428\u001b[0m         im, fp, chunk, mode, rawmode, default_image, append_images\n\u001b[1;32m   1429\u001b[0m     )\n\u001b[1;32m   1430\u001b[0m \u001b[38;5;28;01mif\u001b[39;00m im:\n\u001b[0;32m-> 1431\u001b[0m     \u001b[43mImageFile\u001b[49m\u001b[38;5;241;43m.\u001b[39;49m\u001b[43m_save\u001b[49m\u001b[43m(\u001b[49m\u001b[43mim\u001b[49m\u001b[43m,\u001b[49m\u001b[43m \u001b[49m\u001b[43m_idat\u001b[49m\u001b[43m(\u001b[49m\u001b[43mfp\u001b[49m\u001b[43m,\u001b[49m\u001b[43m \u001b[49m\u001b[43mchunk\u001b[49m\u001b[43m)\u001b[49m\u001b[43m,\u001b[49m\u001b[43m \u001b[49m\u001b[43m[\u001b[49m\u001b[43m(\u001b[49m\u001b[38;5;124;43m\"\u001b[39;49m\u001b[38;5;124;43mzip\u001b[39;49m\u001b[38;5;124;43m\"\u001b[39;49m\u001b[43m,\u001b[49m\u001b[43m \u001b[49m\u001b[43m(\u001b[49m\u001b[38;5;241;43m0\u001b[39;49m\u001b[43m,\u001b[49m\u001b[43m \u001b[49m\u001b[38;5;241;43m0\u001b[39;49m\u001b[43m)\u001b[49m\u001b[43m \u001b[49m\u001b[38;5;241;43m+\u001b[39;49m\u001b[43m \u001b[49m\u001b[43mim\u001b[49m\u001b[38;5;241;43m.\u001b[39;49m\u001b[43msize\u001b[49m\u001b[43m,\u001b[49m\u001b[43m \u001b[49m\u001b[38;5;241;43m0\u001b[39;49m\u001b[43m,\u001b[49m\u001b[43m \u001b[49m\u001b[43mrawmode\u001b[49m\u001b[43m)\u001b[49m\u001b[43m]\u001b[49m\u001b[43m)\u001b[49m\n\u001b[1;32m   1433\u001b[0m \u001b[38;5;28;01mif\u001b[39;00m info:\n\u001b[1;32m   1434\u001b[0m     \u001b[38;5;28;01mfor\u001b[39;00m info_chunk \u001b[38;5;129;01min\u001b[39;00m info\u001b[38;5;241m.\u001b[39mchunks:\n",
      "File \u001b[0;32m~/.local/lib/python3.8/site-packages/PIL/ImageFile.py:551\u001b[0m, in \u001b[0;36m_save\u001b[0;34m(im, fp, tile, bufsize)\u001b[0m\n\u001b[1;32m    549\u001b[0m     _encode_tile(im, fp, tile, bufsize, fh)\n\u001b[1;32m    550\u001b[0m \u001b[38;5;28;01mexcept\u001b[39;00m (\u001b[38;5;167;01mAttributeError\u001b[39;00m, io\u001b[38;5;241m.\u001b[39mUnsupportedOperation) \u001b[38;5;28;01mas\u001b[39;00m exc:\n\u001b[0;32m--> 551\u001b[0m     \u001b[43m_encode_tile\u001b[49m\u001b[43m(\u001b[49m\u001b[43mim\u001b[49m\u001b[43m,\u001b[49m\u001b[43m \u001b[49m\u001b[43mfp\u001b[49m\u001b[43m,\u001b[49m\u001b[43m \u001b[49m\u001b[43mtile\u001b[49m\u001b[43m,\u001b[49m\u001b[43m \u001b[49m\u001b[43mbufsize\u001b[49m\u001b[43m,\u001b[49m\u001b[43m \u001b[49m\u001b[38;5;28;43;01mNone\u001b[39;49;00m\u001b[43m,\u001b[49m\u001b[43m \u001b[49m\u001b[43mexc\u001b[49m\u001b[43m)\u001b[49m\n\u001b[1;32m    552\u001b[0m \u001b[38;5;28;01mif\u001b[39;00m \u001b[38;5;28mhasattr\u001b[39m(fp, \u001b[38;5;124m\"\u001b[39m\u001b[38;5;124mflush\u001b[39m\u001b[38;5;124m\"\u001b[39m):\n\u001b[1;32m    553\u001b[0m     fp\u001b[38;5;241m.\u001b[39mflush()\n",
      "File \u001b[0;32m~/.local/lib/python3.8/site-packages/PIL/ImageFile.py:570\u001b[0m, in \u001b[0;36m_encode_tile\u001b[0;34m(im, fp, tile, bufsize, fh, exc)\u001b[0m\n\u001b[1;32m    567\u001b[0m \u001b[38;5;28;01mif\u001b[39;00m exc:\n\u001b[1;32m    568\u001b[0m     \u001b[38;5;66;03m# compress to Python file-compatible object\u001b[39;00m\n\u001b[1;32m    569\u001b[0m     \u001b[38;5;28;01mwhile\u001b[39;00m \u001b[38;5;28;01mTrue\u001b[39;00m:\n\u001b[0;32m--> 570\u001b[0m         errcode, data \u001b[38;5;241m=\u001b[39m \u001b[43mencoder\u001b[49m\u001b[38;5;241;43m.\u001b[39;49m\u001b[43mencode\u001b[49m\u001b[43m(\u001b[49m\u001b[43mbufsize\u001b[49m\u001b[43m)\u001b[49m[\u001b[38;5;241m1\u001b[39m:]\n\u001b[1;32m    571\u001b[0m         fp\u001b[38;5;241m.\u001b[39mwrite(data)\n\u001b[1;32m    572\u001b[0m         \u001b[38;5;28;01mif\u001b[39;00m errcode:\n",
      "\u001b[0;31mKeyboardInterrupt\u001b[0m: "
     ]
    }
   ],
   "source": [
    "cfgs = config_loader(path='configs/default.yaml')\n",
    "model = Baseline(cfgs)\n",
    "Baseline.run_train(model)"
   ]
  },
  {
   "cell_type": "code",
   "execution_count": 4,
   "metadata": {},
   "outputs": [
    {
     "name": "stderr",
     "output_type": "stream",
     "text": [
      "Transforming: 100%|██████████| 51839/51839 [00:11<00:00, 4662.54it/s]\n"
     ]
    }
   ],
   "source": [
    "info_dict = model.inference()"
   ]
  },
  {
   "cell_type": "code",
   "execution_count": 5,
   "metadata": {},
   "outputs": [],
   "source": [
    "logits = info_dict['logits']\n",
    "labels = info_dict['labels']"
   ]
  },
  {
   "cell_type": "code",
   "execution_count": 14,
   "metadata": {},
   "outputs": [],
   "source": [
    "import numpy as np\n",
    "pred = np.sum(logits, axis=2)"
   ]
  },
  {
   "cell_type": "code",
   "execution_count": null,
   "metadata": {},
   "outputs": [
    {
     "data": {
      "text/plain": [
       "(51839, 43)"
      ]
     },
     "execution_count": 15,
     "metadata": {},
     "output_type": "execute_result"
    }
   ],
   "source": [
    "pred = np.argmax(logits, axis=1)"
   ]
  },
  {
   "cell_type": "code",
   "execution_count": null,
   "metadata": {},
   "outputs": [],
   "source": [
    "labels = labels[:, np.newaxis]"
   ]
  },
  {
   "cell_type": "code",
   "execution_count": null,
   "metadata": {},
   "outputs": [
    {
     "data": {
      "text/plain": [
       "array([20])"
      ]
     },
     "execution_count": 14,
     "metadata": {},
     "output_type": "execute_result"
    }
   ],
   "source": [
    "labels[4]"
   ]
  },
  {
   "cell_type": "code",
   "execution_count": null,
   "metadata": {},
   "outputs": [
    {
     "data": {
      "text/plain": [
       "array([42,  7, 42, 42, 36, 11, 36, 11, 11, 27, 11, 16, 11, 11, 11, 32,  7,\n",
       "        7, 42, 12, 11, 11, 34, 11,  7, 11, 11, 11, 34, 11, 11])"
      ]
     },
     "execution_count": 15,
     "metadata": {},
     "output_type": "execute_result"
    }
   ],
   "source": [
    "pred[4]"
   ]
  },
  {
   "cell_type": "code",
   "execution_count": null,
   "metadata": {},
   "outputs": [
    {
     "data": {
      "text/plain": [
       "0.3136379447781562"
      ]
     },
     "execution_count": 21,
     "metadata": {},
     "output_type": "execute_result"
    }
   ],
   "source": [
    "(pred == labels).mean()"
   ]
  },
  {
   "cell_type": "code",
   "execution_count": null,
   "metadata": {},
   "outputs": [],
   "source": []
  }
 ],
 "metadata": {
  "kernelspec": {
   "display_name": "Python 3",
   "language": "python",
   "name": "python3"
  },
  "language_info": {
   "codemirror_mode": {
    "name": "ipython",
    "version": 3
   },
   "file_extension": ".py",
   "mimetype": "text/x-python",
   "name": "python",
   "nbconvert_exporter": "python",
   "pygments_lexer": "ipython3",
   "version": "3.8.10"
  }
 },
 "nbformat": 4,
 "nbformat_minor": 2
}
