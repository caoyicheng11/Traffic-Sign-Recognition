{
 "cells": [
  {
   "cell_type": "code",
   "execution_count": 1,
   "metadata": {},
   "outputs": [],
   "source": [
    "from utils.common import config_loader\n",
    "from models.baseline import Baseline"
   ]
  },
  {
   "cell_type": "code",
   "execution_count": null,
   "metadata": {},
   "outputs": [],
   "source": [
    "cfgs = config_loader(path='configs/default.yaml')\n",
    "model = Baseline(cfgs)\n",
    "Baseline.run_train(model)"
   ]
  },
  {
   "cell_type": "code",
   "execution_count": 3,
   "metadata": {},
   "outputs": [],
   "source": [
    "model = Baseline(cfgs)"
   ]
  },
  {
   "cell_type": "code",
   "execution_count": null,
   "metadata": {},
   "outputs": [
    {
     "name": "stderr",
     "output_type": "stream",
     "text": [
      "[2025-03-24 01:20:04] [INFO]: Iteration 00010, Cost 7.12s, triplet_loss=0.7537, triplet_hard_loss=5.2994, triplet_loss_num=3814237.7500, triplet_mean_dist=2.8578, softmax_loss=4.3852, softmax_accuracy=0.0616\n",
      "[2025-03-24 01:20:05] [INFO]: Iteration 00020, Cost 1.56s, triplet_loss=1.0352, triplet_hard_loss=7.1201, triplet_loss_num=2867104.5000, triplet_mean_dist=3.5199, softmax_loss=4.0884, softmax_accuracy=0.0851\n",
      "[2025-03-24 01:20:07] [INFO]: Iteration 00030, Cost 1.51s, triplet_loss=0.5784, triplet_hard_loss=5.7690, triplet_loss_num=2383309.2500, triplet_mean_dist=2.7628, softmax_loss=3.5681, softmax_accuracy=0.1719\n"
     ]
    }
   ],
   "source": [
    "Baseline.run_train(model)"
   ]
  },
  {
   "cell_type": "code",
   "execution_count": null,
   "metadata": {},
   "outputs": [],
   "source": []
  }
 ],
 "metadata": {
  "kernelspec": {
   "display_name": "Python 3",
   "language": "python",
   "name": "python3"
  },
  "language_info": {
   "codemirror_mode": {
    "name": "ipython",
    "version": 3
   },
   "file_extension": ".py",
   "mimetype": "text/x-python",
   "name": "python",
   "nbconvert_exporter": "python",
   "pygments_lexer": "ipython3",
   "version": "3.10.6"
  }
 },
 "nbformat": 4,
 "nbformat_minor": 2
}
