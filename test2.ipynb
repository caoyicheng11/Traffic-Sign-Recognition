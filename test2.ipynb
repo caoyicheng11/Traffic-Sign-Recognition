{
 "cells": [
  {
   "cell_type": "code",
   "execution_count": 1,
   "metadata": {},
   "outputs": [
    {
     "ename": "IndentationError",
     "evalue": "unexpected indent (msg_manager.py, line 62)",
     "output_type": "error",
     "traceback": [
      "Traceback \u001b[0;36m(most recent call last)\u001b[0m:\n",
      "\u001b[0m  File \u001b[1;32m~/.local/lib/python3.8/site-packages/IPython/core/interactiveshell.py:3508\u001b[0m in \u001b[1;35mrun_code\u001b[0m\n    exec(code_obj, self.user_global_ns, self.user_ns)\u001b[0m\n",
      "\u001b[0m  Cell \u001b[1;32mIn[1], line 2\u001b[0m\n    from models.baseline import Baseline\u001b[0m\n",
      "\u001b[0;36m  File \u001b[0;32m~/Desktop/Traffic-Sign-Recognition/models/baseline.py:17\u001b[0;36m\n\u001b[0;31m    from utils.msg_manager import msg_mgr\u001b[0;36m\n",
      "\u001b[0;36m  File \u001b[0;32m~/Desktop/Traffic-Sign-Recognition/utils/msg_manager.py:62\u001b[0;36m\u001b[0m\n\u001b[0;31m    module_name = k.split('/')[0]\u001b[0m\n\u001b[0m    ^\u001b[0m\n\u001b[0;31mIndentationError\u001b[0m\u001b[0;31m:\u001b[0m unexpected indent\n"
     ]
    }
   ],
   "source": [
    "from utils.common import config_loader\n",
    "from models.baseline import Baseline"
   ]
  },
  {
   "cell_type": "code",
   "execution_count": null,
   "metadata": {},
   "outputs": [
    {
     "name": "stderr",
     "output_type": "stream",
     "text": [
      "[2025-03-27 00:25:14] [INFO]: {'with_test': True, 'log_iter': 10, 'save_iter': 1000, 'total_iter': 10000, 'restore_ckpt_strict': True, 'restore_hint': 0, 'optimizer_reset': False, 'scheduler_reset': False, 'save_path': 'output', 'save_name': 'Baseline', 'model_cfg': {'model': 'Baseline', 'backbone_cfg': {'block': 'BasicBlock', 'in_channel': 3, 'channels': [32, 64, 128, 256], 'layers': [1, 2, 2, 1], 'strides': [1, 2, 2, 1], 'maxpool': True}, 'SeparateFCs': {'in_channels': 256, 'out_channels': 128, 'parts_num': 31}, 'SeparateBNNecks': {'class_num': 43, 'in_channels': 128, 'parts_num': 31}, 'bin_num': [16, 8, 4, 2, 1]}, 'loss_cfg': {'triplet': {'loss_term_weight': 1.0, 'margin': 0.2}, 'softmax': {'loss_term_weight': 1.0, 'scale': 16, 'log_accuracy': True}}, 'optimizer_cfg': {'lr': 0.1, 'momentum': 0.9, 'weight_decay': 0.0005}, 'scheduler_cfg': {'gamma': 0.1, 'milestones': [20000, 40000, 50000]}, 'data_cfg': {'dataset_name': 'GTSRB', 'root_dir': 'datasets/GTSRB_cropped', 'train_path': 'datasets/GTSRB_cropped/Train.csv', 'test_path': 'datasets/GTSRB_cropped/Test.csv', 'meta_path': 'datasets/GTSRB_cropped/Meta.csv', 'num_workers': 1, 'RandomRotate': {'prob': 0.2, 'degree': 10}, 'RandomBrightness': {'prob': 0.2, 'delta': [-0.1, 0.1]}, 'RandomBlur': {'prob': 0.2, 'size': 5}, 'train_sampler': {'batch_shuffle': True, 'batch_size': [4, 8]}, 'test_sampler': {'batch_size': 32}}}\n",
      "[2025-03-27 00:25:14] [INFO]: {'with_test': True, 'log_iter': 10, 'save_iter': 1000, 'total_iter': 10000, 'restore_ckpt_strict': True, 'restore_hint': 0, 'optimizer_reset': False, 'scheduler_reset': False, 'save_path': 'output', 'save_name': 'Baseline', 'model_cfg': {'model': 'Baseline', 'backbone_cfg': {'block': 'BasicBlock', 'in_channel': 3, 'channels': [32, 64, 128, 256], 'layers': [1, 2, 2, 1], 'strides': [1, 2, 2, 1], 'maxpool': True}, 'SeparateFCs': {'in_channels': 256, 'out_channels': 128, 'parts_num': 31}, 'SeparateBNNecks': {'class_num': 43, 'in_channels': 128, 'parts_num': 31}, 'bin_num': [16, 8, 4, 2, 1]}, 'loss_cfg': {'triplet': {'loss_term_weight': 1.0, 'margin': 0.2}, 'softmax': {'loss_term_weight': 1.0, 'scale': 16, 'log_accuracy': True}}, 'optimizer_cfg': {'lr': 0.1, 'momentum': 0.9, 'weight_decay': 0.0005}, 'scheduler_cfg': {'gamma': 0.1, 'milestones': [20000, 40000, 50000]}, 'data_cfg': {'dataset_name': 'GTSRB', 'root_dir': 'datasets/GTSRB_cropped', 'train_path': 'datasets/GTSRB_cropped/Train.csv', 'test_path': 'datasets/GTSRB_cropped/Test.csv', 'meta_path': 'datasets/GTSRB_cropped/Meta.csv', 'num_workers': 1, 'RandomRotate': {'prob': 0.2, 'degree': 10}, 'RandomBrightness': {'prob': 0.2, 'delta': [-0.1, 0.1]}, 'RandomBlur': {'prob': 0.2, 'size': 5}, 'train_sampler': {'batch_shuffle': True, 'batch_size': [4, 8]}, 'test_sampler': {'batch_size': 32}}}\n",
      "[2025-03-27 00:25:14] [INFO]: Iteration 00010, Cost 104.83s, triplet_loss=1.3388, triplet_hard_loss=5.8786, triplet_loss_num=2200.5081, triplet_mean_dist=3.7625, softmax_loss=4.9119, softmax_accuracy=0.0981\n",
      "[2025-03-27 00:25:14] [INFO]: Iteration 00010, Cost 104.83s, triplet_loss=1.3388, triplet_hard_loss=5.8786, triplet_loss_num=2200.5081, triplet_mean_dist=3.7625, softmax_loss=4.9119, softmax_accuracy=0.0981\n",
      "[2025-03-27 00:25:14] [WARNING]: Not Expected --Summary-- type [images] appear!!!['image', 'scalar']\n",
      "[2025-03-27 00:25:14] [WARNING]: Not Expected --Summary-- type [images] appear!!!['image', 'scalar']\n",
      "[2025-03-27 00:25:15] [INFO]: Iteration 00020, Cost 0.35s, triplet_loss=2.5894, triplet_hard_loss=10.1385, triplet_loss_num=1841.0548, triplet_mean_dist=6.2035, softmax_loss=5.3770, softmax_accuracy=0.0486\n",
      "[2025-03-27 00:25:15] [INFO]: Iteration 00020, Cost 0.35s, triplet_loss=2.5894, triplet_hard_loss=10.1385, triplet_loss_num=1841.0548, triplet_mean_dist=6.2035, softmax_loss=5.3770, softmax_accuracy=0.0486\n",
      "[2025-03-27 00:25:15] [WARNING]: Not Expected --Summary-- type [images] appear!!!['image', 'scalar']\n",
      "[2025-03-27 00:25:15] [WARNING]: Not Expected --Summary-- type [images] appear!!!['image', 'scalar']\n",
      "[2025-03-27 00:25:15] [INFO]: Iteration 00030, Cost 0.41s, triplet_loss=1.7931, triplet_hard_loss=8.1801, triplet_loss_num=2191.4226, triplet_mean_dist=4.0268, softmax_loss=5.1740, softmax_accuracy=0.0197\n",
      "[2025-03-27 00:25:15] [INFO]: Iteration 00030, Cost 0.41s, triplet_loss=1.7931, triplet_hard_loss=8.1801, triplet_loss_num=2191.4226, triplet_mean_dist=4.0268, softmax_loss=5.1740, softmax_accuracy=0.0197\n",
      "[2025-03-27 00:25:15] [WARNING]: Not Expected --Summary-- type [images] appear!!!['image', 'scalar']\n",
      "[2025-03-27 00:25:15] [WARNING]: Not Expected --Summary-- type [images] appear!!!['image', 'scalar']\n",
      "[2025-03-27 00:25:16] [INFO]: Iteration 00040, Cost 0.43s, triplet_loss=1.0265, triplet_hard_loss=5.6439, triplet_loss_num=2269.5193, triplet_mean_dist=2.2769, softmax_loss=4.8355, softmax_accuracy=0.0369\n",
      "[2025-03-27 00:25:16] [INFO]: Iteration 00040, Cost 0.43s, triplet_loss=1.0265, triplet_hard_loss=5.6439, triplet_loss_num=2269.5193, triplet_mean_dist=2.2769, softmax_loss=4.8355, softmax_accuracy=0.0369\n",
      "[2025-03-27 00:25:16] [WARNING]: Not Expected --Summary-- type [images] appear!!!['image', 'scalar']\n",
      "[2025-03-27 00:25:16] [WARNING]: Not Expected --Summary-- type [images] appear!!!['image', 'scalar']\n",
      "[2025-03-27 00:25:16] [INFO]: Iteration 00050, Cost 0.22s, triplet_loss=0.8911, triplet_hard_loss=4.2675, triplet_loss_num=2869.2192, triplet_mean_dist=1.6927, softmax_loss=4.8439, softmax_accuracy=0.0394\n",
      "[2025-03-27 00:25:16] [INFO]: Iteration 00050, Cost 0.22s, triplet_loss=0.8911, triplet_hard_loss=4.2675, triplet_loss_num=2869.2192, triplet_mean_dist=1.6927, softmax_loss=4.8439, softmax_accuracy=0.0394\n",
      "[2025-03-27 00:25:16] [WARNING]: Not Expected --Summary-- type [images] appear!!!['image', 'scalar']\n",
      "[2025-03-27 00:25:16] [WARNING]: Not Expected --Summary-- type [images] appear!!!['image', 'scalar']\n",
      "[2025-03-27 00:25:16] [INFO]: Iteration 00060, Cost 0.20s, triplet_loss=0.6977, triplet_hard_loss=2.8690, triplet_loss_num=2790.3484, triplet_mean_dist=1.3948, softmax_loss=4.3314, softmax_accuracy=0.0623\n",
      "[2025-03-27 00:25:16] [INFO]: Iteration 00060, Cost 0.20s, triplet_loss=0.6977, triplet_hard_loss=2.8690, triplet_loss_num=2790.3484, triplet_mean_dist=1.3948, softmax_loss=4.3314, softmax_accuracy=0.0623\n",
      "[2025-03-27 00:25:16] [WARNING]: Not Expected --Summary-- type [images] appear!!!['image', 'scalar']\n",
      "[2025-03-27 00:25:16] [WARNING]: Not Expected --Summary-- type [images] appear!!!['image', 'scalar']\n",
      "[2025-03-27 00:25:16] [INFO]: Iteration 00070, Cost 0.21s, triplet_loss=0.4710, triplet_hard_loss=1.9246, triplet_loss_num=2673.9807, triplet_mean_dist=0.9870, softmax_loss=4.4021, softmax_accuracy=0.0904\n",
      "[2025-03-27 00:25:16] [INFO]: Iteration 00070, Cost 0.21s, triplet_loss=0.4710, triplet_hard_loss=1.9246, triplet_loss_num=2673.9807, triplet_mean_dist=0.9870, softmax_loss=4.4021, softmax_accuracy=0.0904\n",
      "[2025-03-27 00:25:16] [WARNING]: Not Expected --Summary-- type [images] appear!!!['image', 'scalar']\n",
      "[2025-03-27 00:25:16] [WARNING]: Not Expected --Summary-- type [images] appear!!!['image', 'scalar']\n",
      "[2025-03-27 00:25:17] [INFO]: Iteration 00080, Cost 0.23s, triplet_loss=0.3731, triplet_hard_loss=1.6105, triplet_loss_num=2463.2031, triplet_mean_dist=0.8640, softmax_loss=4.3174, softmax_accuracy=0.1018\n",
      "[2025-03-27 00:25:17] [INFO]: Iteration 00080, Cost 0.23s, triplet_loss=0.3731, triplet_hard_loss=1.6105, triplet_loss_num=2463.2031, triplet_mean_dist=0.8640, softmax_loss=4.3174, softmax_accuracy=0.1018\n",
      "[2025-03-27 00:25:17] [WARNING]: Not Expected --Summary-- type [images] appear!!!['image', 'scalar']\n",
      "[2025-03-27 00:25:17] [WARNING]: Not Expected --Summary-- type [images] appear!!!['image', 'scalar']\n",
      "[2025-03-27 00:25:17] [INFO]: Iteration 00090, Cost 0.20s, triplet_loss=0.4159, triplet_hard_loss=1.6894, triplet_loss_num=2397.8516, triplet_mean_dist=0.9602, softmax_loss=4.3486, softmax_accuracy=0.0468\n",
      "[2025-03-27 00:25:17] [INFO]: Iteration 00090, Cost 0.20s, triplet_loss=0.4159, triplet_hard_loss=1.6894, triplet_loss_num=2397.8516, triplet_mean_dist=0.9602, softmax_loss=4.3486, softmax_accuracy=0.0468\n",
      "[2025-03-27 00:25:17] [WARNING]: Not Expected --Summary-- type [images] appear!!!['image', 'scalar']\n",
      "[2025-03-27 00:25:17] [WARNING]: Not Expected --Summary-- type [images] appear!!!['image', 'scalar']\n",
      "[2025-03-27 00:25:17] [INFO]: Iteration 00100, Cost 0.21s, triplet_loss=0.3652, triplet_hard_loss=1.5251, triplet_loss_num=2325.0225, triplet_mean_dist=0.8564, softmax_loss=3.9877, softmax_accuracy=0.0785\n",
      "[2025-03-27 00:25:17] [INFO]: Iteration 00100, Cost 0.21s, triplet_loss=0.3652, triplet_hard_loss=1.5251, triplet_loss_num=2325.0225, triplet_mean_dist=0.8564, softmax_loss=3.9877, softmax_accuracy=0.0785\n",
      "[2025-03-27 00:25:17] [WARNING]: Not Expected --Summary-- type [images] appear!!!['image', 'scalar']\n",
      "[2025-03-27 00:25:17] [WARNING]: Not Expected --Summary-- type [images] appear!!!['image', 'scalar']\n",
      "[2025-03-27 00:25:17] [INFO]: Iteration 00110, Cost 0.22s, triplet_loss=0.3514, triplet_hard_loss=1.4906, triplet_loss_num=2292.1033, triplet_mean_dist=0.8560, softmax_loss=4.0463, softmax_accuracy=0.0950\n",
      "[2025-03-27 00:25:17] [INFO]: Iteration 00110, Cost 0.22s, triplet_loss=0.3514, triplet_hard_loss=1.4906, triplet_loss_num=2292.1033, triplet_mean_dist=0.8560, softmax_loss=4.0463, softmax_accuracy=0.0950\n",
      "[2025-03-27 00:25:17] [WARNING]: Not Expected --Summary-- type [images] appear!!!['image', 'scalar']\n",
      "[2025-03-27 00:25:17] [WARNING]: Not Expected --Summary-- type [images] appear!!!['image', 'scalar']\n",
      "[2025-03-27 00:25:17] [INFO]: Iteration 00120, Cost 0.21s, triplet_loss=0.3522, triplet_hard_loss=1.4128, triplet_loss_num=2354.3806, triplet_mean_dist=0.8499, softmax_loss=3.9219, softmax_accuracy=0.1021\n",
      "[2025-03-27 00:25:17] [INFO]: Iteration 00120, Cost 0.21s, triplet_loss=0.3522, triplet_hard_loss=1.4128, triplet_loss_num=2354.3806, triplet_mean_dist=0.8499, softmax_loss=3.9219, softmax_accuracy=0.1021\n",
      "[2025-03-27 00:25:17] [WARNING]: Not Expected --Summary-- type [images] appear!!!['image', 'scalar']\n",
      "[2025-03-27 00:25:17] [WARNING]: Not Expected --Summary-- type [images] appear!!!['image', 'scalar']\n",
      "[2025-03-27 00:25:18] [INFO]: Iteration 00130, Cost 0.20s, triplet_loss=0.3647, triplet_hard_loss=1.5013, triplet_loss_num=2017.6548, triplet_mean_dist=0.9925, softmax_loss=4.2158, softmax_accuracy=0.0495\n",
      "[2025-03-27 00:25:18] [INFO]: Iteration 00130, Cost 0.20s, triplet_loss=0.3647, triplet_hard_loss=1.5013, triplet_loss_num=2017.6548, triplet_mean_dist=0.9925, softmax_loss=4.2158, softmax_accuracy=0.0495\n",
      "[2025-03-27 00:25:18] [WARNING]: Not Expected --Summary-- type [images] appear!!!['image', 'scalar']\n",
      "[2025-03-27 00:25:18] [WARNING]: Not Expected --Summary-- type [images] appear!!!['image', 'scalar']\n",
      "[2025-03-27 00:25:18] [INFO]: Iteration 00140, Cost 0.25s, triplet_loss=0.4072, triplet_hard_loss=1.7474, triplet_loss_num=2414.4160, triplet_mean_dist=0.9957, softmax_loss=4.0375, softmax_accuracy=0.0887\n",
      "[2025-03-27 00:25:18] [INFO]: Iteration 00140, Cost 0.25s, triplet_loss=0.4072, triplet_hard_loss=1.7474, triplet_loss_num=2414.4160, triplet_mean_dist=0.9957, softmax_loss=4.0375, softmax_accuracy=0.0887\n",
      "[2025-03-27 00:25:18] [WARNING]: Not Expected --Summary-- type [images] appear!!!['image', 'scalar']\n",
      "[2025-03-27 00:25:18] [WARNING]: Not Expected --Summary-- type [images] appear!!!['image', 'scalar']\n"
     ]
    }
   ],
   "source": [
    "cfgs = config_loader(path='configs/default.yaml')\n",
    "model = Baseline(cfgs)\n",
    "Baseline.run_train(model)"
   ]
  },
  {
   "cell_type": "code",
   "execution_count": null,
   "metadata": {},
   "outputs": [],
   "source": []
  }
 ],
 "metadata": {
  "kernelspec": {
   "display_name": "Python 3",
   "language": "python",
   "name": "python3"
  },
  "language_info": {
   "codemirror_mode": {
    "name": "ipython",
    "version": 3
   },
   "file_extension": ".py",
   "mimetype": "text/x-python",
   "name": "python",
   "nbconvert_exporter": "python",
   "pygments_lexer": "ipython3",
   "version": "3.8.10"
  }
 },
 "nbformat": 4,
 "nbformat_minor": 2
}
